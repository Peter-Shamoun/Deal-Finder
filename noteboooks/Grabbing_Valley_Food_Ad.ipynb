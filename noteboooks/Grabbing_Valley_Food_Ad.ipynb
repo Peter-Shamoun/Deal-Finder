{
 "cells": [
  {
   "cell_type": "code",
   "execution_count": 41,
   "id": "23b7e885-e97d-47ee-9c13-09d7f57c8078",
   "metadata": {},
   "outputs": [],
   "source": [
    "from bs4 import BeautifulSoup\n",
    "import requests\n",
    "from datetime import datetime"
   ]
  },
  {
   "cell_type": "markdown",
   "id": "2e6bcf0c-a996-4d31-aeca-d7e78510fcde",
   "metadata": {},
   "source": [
    "Getting valley food HTML"
   ]
  },
  {
   "cell_type": "code",
   "execution_count": 42,
   "id": "a79b9ca6-9cf7-4e71-8258-d672492e400e",
   "metadata": {},
   "outputs": [],
   "source": [
    "url = 'https://valleyfoodsmed.com/weekly-ad/'\n",
    "response = requests.get(url)\n",
    "\n",
    "if response.status_code == 200:\n",
    "    html_content = response.text\n",
    "else:\n",
    "    print(f\"Failed to retrieve the page. Status code: {response.status_code}\")"
   ]
  },
  {
   "cell_type": "markdown",
   "id": "e5c01f80-8b1a-4fd3-a9b3-42a3a3fefe7a",
   "metadata": {},
   "source": [
    "Geetting the Image links\n"
   ]
  },
  {
   "cell_type": "code",
   "execution_count": 43,
   "id": "6a20429f-2122-4441-9d95-904a0d741657",
   "metadata": {},
   "outputs": [],
   "source": [
    "soup = BeautifulSoup(html_content, 'html.parser')\n",
    "\n",
    "\n",
    "image_tags = soup.find_all('img')\n",
    "\n",
    "image_urls = [img['src'] for img in image_tags]\n",
    "ads = [image_urls[1], image_urls[2]]"
   ]
  },
  {
   "cell_type": "markdown",
   "id": "d33daf09-9a29-4554-93a0-77669cb314d9",
   "metadata": {},
   "source": [
    "Getting the date that will be used in the filename"
   ]
  },
  {
   "cell_type": "code",
   "execution_count": 44,
   "id": "4342d4dc-ad5e-4029-9ad6-25f785753bb4",
   "metadata": {
    "scrolled": true
   },
   "outputs": [],
   "source": [
    "now = datetime.now()\n",
    "current_date = now.date()"
   ]
  },
  {
   "cell_type": "markdown",
   "id": "039aaffb-db80-4db4-bb48-8e3cba8caf04",
   "metadata": {},
   "source": [
    "Saving the images"
   ]
  },
  {
   "cell_type": "code",
   "execution_count": 45,
   "id": "84ed7ec1-6fef-4d7b-9cab-f8ccf951fe0d",
   "metadata": {},
   "outputs": [
    {
     "name": "stdout",
     "output_type": "stream",
     "text": [
      "Image saved successfully.\n",
      "Image saved successfully.\n"
     ]
    }
   ],
   "source": [
    "counter = 0\n",
    "for ad in ads:\n",
    "    counter += 1\n",
    "    response = requests.get(ad)\n",
    "    if response.status_code == 200:\n",
    "        with open(f'valley_food_{current_date}_{counter}.jpg', 'wb') as file:\n",
    "            file.write(response.content)\n",
    "        print('Image saved successfully.')\n",
    "    else:\n",
    "        print(f\"Failed to retrieve the image. Status code: {response.status_code}\")"
   ]
  }
 ],
 "metadata": {
  "kernelspec": {
   "display_name": "Python 3 (ipykernel)",
   "language": "python",
   "name": "python3"
  },
  "language_info": {
   "codemirror_mode": {
    "name": "ipython",
    "version": 3
   },
   "file_extension": ".py",
   "mimetype": "text/x-python",
   "name": "python",
   "nbconvert_exporter": "python",
   "pygments_lexer": "ipython3",
   "version": "3.11.7"
  }
 },
 "nbformat": 4,
 "nbformat_minor": 5
}
