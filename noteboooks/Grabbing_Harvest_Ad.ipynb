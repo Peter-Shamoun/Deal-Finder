{
 "cells": [
  {
   "cell_type": "code",
   "execution_count": 19,
   "id": "11714590-7242-46b8-ba90-49fbda1e1f9e",
   "metadata": {},
   "outputs": [],
   "source": [
    "from bs4 import BeautifulSoup\n",
    "import requests\n",
    "from datetime import datetime\n",
    "import os\n",
    "import time"
   ]
  },
  {
   "cell_type": "code",
   "execution_count": null,
   "id": "deb9305f-84e9-438c-8ef0-645466fd6b96",
   "metadata": {},
   "outputs": [],
   "source": [
    "now = datetime.now()\n",
    "current_date = now.date()"
   ]
  },
  {
   "cell_type": "code",
   "execution_count": 25,
   "id": "6dda17df-3795-41e1-a30a-672b3152a647",
   "metadata": {},
   "outputs": [
    {
     "name": "stdout",
     "output_type": "stream",
     "text": [
      "Image successfully downloaded and saved to C:\\Users\\16196\\Food Ads\\harvest_ads_\\HI_ElCajon_Ad.jpg.\n"
     ]
    }
   ],
   "source": [
    "image_url = 'http://harvestinternationalmarket.com/wp-content/uploads/WeeklyAd/HI_ElCajon_Ad.jpg'\n",
    "\n",
    "\n",
    "headers = {\n",
    "    'User-Agent': 'Mozilla/5.0 (Windows NT 10.0; Win64; x64) AppleWebKit/537.36 (KHTML, like Gecko) Chrome/91.0.4472.124 Safari/537.36'\n",
    "}\n",
    "\n",
    "\n",
    "save_path = r'C:\\Users\\16196\\Food Ads\\harvest_ads_'\n",
    "file_name = 'HI_ElCajon_Ad.jpg'\n",
    "full_path = os.path.join(save_path, file_name)\n",
    "\n",
    "\n",
    "response = requests.get(image_url, headers=headers)\n",
    "\n",
    "\n",
    "if response.status_code == 200:\n",
    "    os.makedirs(save_path, exist_ok=True)\n",
    "    \n",
    "    with open(full_path, 'wb') as file:\n",
    "        file.write(response.content)\n",
    "    print(f\"Image successfully downloaded and saved to {full_path}.\")\n",
    "else:\n",
    "    print(f\"Failed to download the image. Status code: {response.status_code}\")"
   ]
  }
 ],
 "metadata": {
  "kernelspec": {
   "display_name": "Python 3 (ipykernel)",
   "language": "python",
   "name": "python3"
  },
  "language_info": {
   "codemirror_mode": {
    "name": "ipython",
    "version": 3
   },
   "file_extension": ".py",
   "mimetype": "text/x-python",
   "name": "python",
   "nbconvert_exporter": "python",
   "pygments_lexer": "ipython3",
   "version": "3.11.7"
  }
 },
 "nbformat": 4,
 "nbformat_minor": 5
}
