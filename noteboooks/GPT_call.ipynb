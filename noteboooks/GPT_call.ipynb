{
 "cells": [
  {
   "cell_type": "code",
   "execution_count": 12,
   "id": "1137cdca-fda7-4058-ae4f-ed7e19204bf7",
   "metadata": {},
   "outputs": [],
   "source": [
    "from dotenv import load_dotenv\n",
    "import os\n",
    "\n",
    "# Load environment variables\n",
    "load_dotenv()\n",
    "\n",
    "API_KEY = os.getenv('OPENAI_API_KEY')"
   ]
  },
  {
   "cell_type": "code",
   "execution_count": 13,
   "id": "b2b5c262-03a1-4194-8ce1-2a7cfb6911cf",
   "metadata": {},
   "outputs": [],
   "source": [
    "import openai\n",
    "import os\n",
    "from openai import OpenAI\n",
    "import base64\n",
    "import requests"
   ]
  },
  {
   "cell_type": "code",
   "execution_count": 14,
   "id": "d7e8f02f-edbd-46f3-b68a-9992058f2757",
   "metadata": {},
   "outputs": [],
   "source": [
    "openai.api_key = \"sk-DSH-hJq9Yk2kX1amb1d_QczzF00tRKtJBgWJ9qHW0kT3BlbkFJmlZipxLEok9gNldkKv33TaxtG6-8zPdtAD3Lg9SIcA\""
   ]
  },
  {
   "cell_type": "code",
   "execution_count": 15,
   "id": "bdb960b2-b960-4460-8d25-d1038dee6d84",
   "metadata": {},
   "outputs": [],
   "source": [
    "def encode_image(image_path):\n",
    "  with open(image_path, \"rb\") as image_file:\n",
    "    return base64.b64encode(image_file.read()).decode('utf-8')"
   ]
  },
  {
   "cell_type": "code",
   "execution_count": 16,
   "id": "9aaf6b6e-c1eb-461d-8ddf-95453bc82e8d",
   "metadata": {
    "scrolled": true
   },
   "outputs": [],
   "source": [
    "results = {}\n",
    "\n",
    "directory = r'C:\\Users\\16196\\Food Ads/valley_food_pics'\n",
    "\n",
    "\n",
    "for filename in os.listdir(directory):\n",
    "    if filename[-1] != 's':\n",
    "        gpt_file = r'C:\\Users\\16196\\Food Ads/valley_food_pics/'+filename\n",
    "        base64_image = encode_image(rf'{gpt_file}')\n",
    "\n",
    "\n",
    "        headers = {\n",
    "          \"Content-Type\": \"application/json\",\n",
    "          \"Authorization\": f\"Bearer {API_KEY}\"\n",
    "        }\n",
    "        \n",
    "        \n",
    "        payload = {\n",
    "          \"model\": \"gpt-4o\",\n",
    "          \"messages\": [\n",
    "            {\n",
    "              \"role\": \"user\",\n",
    "              \"content\": [\n",
    "                {\n",
    "                  \"type\": \"text\",\n",
    "                  \"text\": \"\"\"\n",
    "                  \n",
    "                    I am going to show you an image that contains various items. For each item, list its name, followed by a colon. \n",
    "                    After the colon, write the price of the item using the appropriate format. Use these guidelines for the price:\n",
    "    \n",
    "                    If the price is per weight, format it as '$X per lb' (or any relevant weight unit).\n",
    "                    If the price is per unit, format it as '$X each.'\n",
    "                    If there are any other formats (like 'per pack'), ensure the correct unit is represented.\n",
    "                    Example:\n",
    "                    \n",
    "                    Apples: $2 per lb\n",
    "                    Bottled Water: $1.50 each\n",
    "                    Toilet Paper (12-pack): $10 per pack\n",
    "                    Now, based on the image, please follow this format and provide the item names with prices. Do not include anything else other \n",
    "                    than the item and its price\n",
    "                  \n",
    "                  \"\"\"\n",
    "                },\n",
    "                {\n",
    "                  \"type\": \"image_url\",\n",
    "                  \"image_url\": {\n",
    "                    \"url\": f\"data:image/jpeg;base64,{base64_image}\"\n",
    "                  }\n",
    "                }\n",
    "              ]\n",
    "            }\n",
    "          ],\n",
    "          \"max_tokens\": 300\n",
    "        }\n",
    "        \n",
    "        response = requests.post(\"https://api.openai.com/v1/chat/completions\", headers=headers, json=payload)\n",
    "        text = response.json()['choices'][0]['message']['content']\n",
    "        key = text.split(\":\")[0]\n",
    "        val = text.split(\":\")[1]\n",
    "        results[key] = val"
   ]
  },
  {
   "cell_type": "code",
   "execution_count": 19,
   "id": "d6c4cb1e-60c1-4aab-a5b2-54083dd76899",
   "metadata": {
    "scrolled": true
   },
   "outputs": [
    {
     "data": {
      "text/plain": [
       "{'Walnuts': ' $2.49 per lb',\n",
       " 'Double Roasted Salted Squash Seeds': ' $4.99 per lb\\nJumbo White Sunflower Seeds',\n",
       " 'Calrose Rice': ' $0.99 per lb\\nLoose Coconut',\n",
       " 'Iraqi Style Dried Apricot': ' $5.49 per lb\\nLarge Fava Beans',\n",
       " 'Puck Cream Cheese (240 gr.)': ' $5.99 each',\n",
       " 'Ulker Turkish Labneh (550 gr)': ' $5.99 each',\n",
       " 'KDD Gaimar Cream (250 g)': ' $2.50 each',\n",
       " 'Kiri Creamy Cheese (6 ct)': ' $2.99 each.',\n",
       " 'Kalamata Olives': ' $3.99 per lb',\n",
       " 'Eggroll (individual)': ' $1.50 each\\nEggroll (6-pack)',\n",
       " 'Karoun Chicago Cheese': ' $4.29 per lb',\n",
       " 'Potatochop or Kubba Halab': ' $1.50 each\\nPotatochop or Kubba Halab (10 pack)',\n",
       " 'Alwazah Tea (110 Tea Bags)': ' $2.99 each',\n",
       " 'Al Gota Dried Apricot Candy (400 gr)': ' $4.99 each',\n",
       " 'Al Gota Regular or Wild Cucumber Pickles (600 gr)': ' $2.99 each',\n",
       " 'Indomie Noodles (Chicken, Vegetable, or Curry 75 gr)': ' $1 for 2 packs',\n",
       " 'Tatco Tomato Paste (830 gr)': ' $2.50 each',\n",
       " 'Targeter Corned Beef Halal 12 oz.': ' $3.49 each',\n",
       " 'Byblos Lemon Juice': ' $1.99 each',\n",
       " 'Al Dayaa Pomegranate Molasses (350 gr)': ' 3/$5',\n",
       " 'Royal Arm Mushrooms (400 gr)': ' $1.99 each',\n",
       " 'Jabal Alqosh Sunflower Seeds (200 gr, Regular or Coconut Flavor)': ' $2.50 each',\n",
       " 'Allegra Pasta (16 oz)': ' $1.25 each',\n",
       " 'Original Fruit Juice (250 ml)': ' $0.69 each',\n",
       " 'Fresh Okra': ' $1.79 per lb\\nBlack Eyed Peas',\n",
       " 'Halal Australian Lamb Shoulder': ' $2.89 per lb',\n",
       " 'Fresh Lean Ground Beef 22% Fat': ' $3.49 per lb',\n",
       " 'Fresh Chicken Leg Quarters or Drumsticks': ' $0.99 per lb',\n",
       " 'Mother, Ahhu-Barah or Baghlan Basmati Rice': ' $14.99 each',\n",
       " '- Mid East Vermicelli 16 oz': ' $0.88 each\\n- Mid East Baladi Green Olives 3 lb',\n",
       " 'Whole Clean Tilapia Fish or Swai Fish Fillets': ' $2.99 per lb',\n",
       " 'Halal Australian Lamb Tongue': ' $8.99 per lb',\n",
       " 'Meaty Beef Neckbones': ' $2.99 per lb',\n",
       " 'Fresh Whole Chicken': ' $1.99 per lb',\n",
       " 'Fresh Beef Tenderloin': ' $12.99 per lb',\n",
       " 'Golden Jumbo Quails (6 pk.)': ' $9.99 each',\n",
       " 'Fresh Boneless Beef Top Sirloin Steak': ' $5.99 per lb',\n",
       " 'Beef Feet': ' $3.49 per lb',\n",
       " 'Brown Onions': ' $1 per 5 lbs',\n",
       " 'American Cucumber': ' $1.99 per lb',\n",
       " 'Salad Tomatoes': ' $0.69 per lb',\n",
       " 'Hami Melon': ' $1 per 3 lbs',\n",
       " 'Romaine Hearts (3 pk)': ' $3 for 2 packs',\n",
       " 'Red or Black Plums': ' $0.99 per lb',\n",
       " 'Garlic (5 Pieces)': ' $1.29 each\\nRusset Potatoes (5 lb. Bag)',\n",
       " 'Red Globe Grapes': ' $0.99 per lb',\n",
       " 'Chicken Shawarma': ' $8.99 per lb',\n",
       " 'Falafel Sandwich': ' $7.99 each + tax',\n",
       " 'Kubba Taco': ' $1.99 each\\nKubba Taco (4 Pack)',\n",
       " 'Based on the image, here are the item names with their prices': '\\n\\nKabob Roll'}"
      ]
     },
     "execution_count": 19,
     "metadata": {},
     "output_type": "execute_result"
    }
   ],
   "source": [
    "results"
   ]
  }
 ],
 "metadata": {
  "kernelspec": {
   "display_name": "Python 3 (ipykernel)",
   "language": "python",
   "name": "python3"
  },
  "language_info": {
   "codemirror_mode": {
    "name": "ipython",
    "version": 3
   },
   "file_extension": ".py",
   "mimetype": "text/x-python",
   "name": "python",
   "nbconvert_exporter": "python",
   "pygments_lexer": "ipython3",
   "version": "3.11.7"
  }
 },
 "nbformat": 4,
 "nbformat_minor": 5
}
