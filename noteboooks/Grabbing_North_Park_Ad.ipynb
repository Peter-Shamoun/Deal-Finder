{
 "cells": [
  {
   "cell_type": "code",
   "execution_count": 19,
   "metadata": {},
   "outputs": [],
   "source": [
    "from bs4 import BeautifulSoup\n",
    "import requests\n",
    "from datetime import datetime\n",
    "import os\n",
    "from selenium import webdriver\n",
    "from selenium.webdriver.common.by import By\n",
    "from selenium.webdriver.common.action_chains import ActionChains\n",
    "import time\n",
    "\n",
    "url = 'https://www.northparkproduce.com/copy-of-weekly-specials'"
   ]
  },
  {
   "cell_type": "code",
   "execution_count": 20,
   "metadata": {},
   "outputs": [],
   "source": [
    "def get_html_with_scroll(url):\n",
    "   \n",
    "    driver = webdriver.Chrome() \n",
    "    driver.get(url)\n",
    "\n",
    "    \n",
    "    last_height = driver.execute_script(\"return document.body.scrollHeight\")\n",
    "    \n",
    "    while True:\n",
    "        \n",
    "        driver.execute_script(\"window.scrollTo(0, document.body.scrollHeight);\")\n",
    "        \n",
    "        \n",
    "        time.sleep(2) \n",
    "        \n",
    "        \n",
    "        new_height = driver.execute_script(\"return document.body.scrollHeight\")\n",
    "        if new_height == last_height:\n",
    "            break\n",
    "        last_height = new_height\n",
    "\n",
    "    \n",
    "    html_content = driver.page_source\n",
    "    \n",
    "\n",
    "    driver.quit()\n",
    "    return html_content\n",
    "html = get_html_with_scroll(url)\n",
    "\n",
    "\n"
   ]
  },
  {
   "cell_type": "code",
   "execution_count": 21,
   "metadata": {},
   "outputs": [],
   "source": [
    "soup = BeautifulSoup(get_html_with_scroll(url), 'html.parser')\n",
    "\n",
    "image_tags = soup.find_all('img')"
   ]
  },
  {
   "cell_type": "code",
   "execution_count": 22,
   "metadata": {},
   "outputs": [],
   "source": [
    "image_urls = [img['src'] for img in image_tags]\n",
    "ads = [image_urls[2], image_urls[-1]]"
   ]
  },
  {
   "cell_type": "code",
   "execution_count": 23,
   "metadata": {},
   "outputs": [
    {
     "name": "stdout",
     "output_type": "stream",
     "text": [
      "Image saved successfully.\n",
      "Image saved successfully.\n"
     ]
    }
   ],
   "source": [
    "now = datetime.now()\n",
    "current_date = now.date()\n",
    "\n",
    "counter = 0\n",
    "for ad in ads:\n",
    "    counter += 1\n",
    "    response = requests.get(ad)\n",
    "    \n",
    "    if response.status_code == 200:\n",
    "        folder_path = r'C:\\Users\\16196\\Food Ads\\north_park_ads_'\n",
    "        if not os.path.exists(folder_path):\n",
    "            os.makedirs(folder_path)\n",
    "        \n",
    "        filename = f'{current_date}_{counter}.jpg'\n",
    "        file_path = os.path.join(folder_path, filename)\n",
    "        \n",
    "        with open(file_path, 'wb') as file:\n",
    "            file.write(response.content)\n",
    "        \n",
    "        print('Image saved successfully.')\n",
    "    else:\n",
    "        print(f\"Failed to retrieve the image. Status code: {response.status_code}\")"
   ]
  },
  {
   "cell_type": "code",
   "execution_count": null,
   "metadata": {},
   "outputs": [],
   "source": []
  },
  {
   "cell_type": "code",
   "execution_count": null,
   "metadata": {},
   "outputs": [],
   "source": []
  },
  {
   "cell_type": "code",
   "execution_count": null,
   "metadata": {},
   "outputs": [],
   "source": []
  },
  {
   "cell_type": "code",
   "execution_count": null,
   "metadata": {},
   "outputs": [],
   "source": []
  }
 ],
 "metadata": {
  "kernelspec": {
   "display_name": "Python 3 (ipykernel)",
   "language": "python",
   "name": "python3"
  },
  "language_info": {
   "codemirror_mode": {
    "name": "ipython",
    "version": 3
   },
   "file_extension": ".py",
   "mimetype": "text/x-python",
   "name": "python",
   "nbconvert_exporter": "python",
   "pygments_lexer": "ipython3",
   "version": "3.11.7"
  }
 },
 "nbformat": 4,
 "nbformat_minor": 4
}
